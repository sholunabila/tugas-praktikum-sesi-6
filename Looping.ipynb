{
 "cells": [
  {
   "cell_type": "code",
   "execution_count": 2,
   "id": "e473a4b1",
   "metadata": {},
   "outputs": [
    {
     "name": "stdout",
     "output_type": "stream",
     "text": [
      "1\n",
      "2\n",
      "3\n",
      "4\n",
      "5\n",
      "6\n",
      "7\n",
      "8\n",
      "9\n",
      "10\n"
     ]
    }
   ],
   "source": [
    "# for in range\n",
    "# print 1 - 10\n",
    "\n",
    "for i in range(1,11):\n",
    "    print(i)"
   ]
  },
  {
   "cell_type": "code",
   "execution_count": 1,
   "id": "063b1dca",
   "metadata": {},
   "outputs": [
    {
     "name": "stdout",
     "output_type": "stream",
     "text": [
      "10\n",
      "20\n",
      "30\n",
      "40\n",
      "50\n",
      "60\n",
      "70\n",
      "80\n",
      "90\n",
      "100\n"
     ]
    }
   ],
   "source": [
    "#print 10 20 30 40 50 --- 100\n",
    "for i in range(1,11):\n",
    "    print(i*10)"
   ]
  },
  {
   "cell_type": "code",
   "execution_count": 6,
   "id": "8035e9de",
   "metadata": {},
   "outputs": [
    {
     "name": "stdout",
     "output_type": "stream",
     "text": [
      "10\n",
      "20\n",
      "30\n",
      "40\n",
      "50\n",
      "60\n",
      "70\n",
      "80\n",
      "90\n",
      "100\n"
     ]
    }
   ],
   "source": [
    "for i in range(10,110,10):\n",
    "    print(i)"
   ]
  },
  {
   "cell_type": "code",
   "execution_count": 8,
   "id": "0723c503",
   "metadata": {},
   "outputs": [
    {
     "name": "stdout",
     "output_type": "stream",
     "text": [
      "10\n",
      "9\n",
      "8\n",
      "7\n",
      "6\n",
      "5\n",
      "4\n",
      "3\n",
      "2\n",
      "1\n"
     ]
    }
   ],
   "source": [
    "# 10 9 8 7 --- 1\n",
    "for i in range(10,0,-1):\n",
    "    print(i)"
   ]
  },
  {
   "cell_type": "code",
   "execution_count": 19,
   "id": "f6abb972",
   "metadata": {},
   "outputs": [
    {
     "name": "stdout",
     "output_type": "stream",
     "text": [
      "1\n",
      "-1\n",
      "1\n",
      "-1\n",
      "1\n",
      "-1\n",
      "1\n",
      "-1\n",
      "1\n",
      "-1\n"
     ]
    }
   ],
   "source": [
    "# 1 -2 3 -4 5 -6 7 -8 9 -10\n",
    "sign = 1 \n",
    "for i in range(1,11):\n",
    "    print (1 * sign)\n",
    "    sign *= -1"
   ]
  },
  {
   "cell_type": "code",
   "execution_count": 6,
   "id": "2f01d73b",
   "metadata": {},
   "outputs": [
    {
     "name": "stdout",
     "output_type": "stream",
     "text": [
      "isikan bilangan:4\n",
      "faktorial dari 4! adalah 16\n"
     ]
    }
   ],
   "source": [
    "# faktorial => input 4! = 4 * 3 * 2 * 1 = 24\n",
    "\n",
    "number = int(input('isikan bilangan:'))\n",
    "for i in range(1, number+1):\n",
    "     result = 4 * i\n",
    "        \n",
    "print(f\"faktorial dari {4}! adalah {result}\")"
   ]
  },
  {
   "cell_type": "code",
   "execution_count": 11,
   "id": "0b097835",
   "metadata": {},
   "outputs": [
    {
     "name": "stdout",
     "output_type": "stream",
     "text": [
      "isikan bilangan:2\n",
      "isikan bilangan:3\n",
      "2 pangkat 3 = 8\n"
     ]
    }
   ],
   "source": [
    "# perpangkatan => 2 pangkat 3 hasil 8\n",
    "\n",
    "number = 2\n",
    "pangkat = 3\n",
    "\n",
    "number = int(input('isikan bilangan:'))\n",
    "pangkat = int(input('isikan bilangan:'))\n",
    "\n",
    "result = 1\n",
    "for i in range(1, pangkat+1):\n",
    "    result *= number\n",
    "\n",
    "print(f\"{number} pangkat {pangkat} = {result}\")"
   ]
  },
  {
   "cell_type": "code",
   "execution_count": 19,
   "id": "492e4ad4",
   "metadata": {},
   "outputs": [
    {
     "name": "stdout",
     "output_type": "stream",
     "text": [
      "isikan bilangan:9\n",
      "9 adalah bilangan bukan prima\n"
     ]
    }
   ],
   "source": [
    "# cek bilangan prima\n",
    "# bilangan prima adalah bilangan yang hanya bisa dibagi dengan bilangan itu sendiri dan 1\n",
    "# bilangan prima punya 2 faktor \n",
    "# jika number % i == 0 maka nilai faktor di increment (+1)\n",
    "# setelah selesai perulangan, jika faktor == 2 maka bilangan prima \n",
    "\n",
    "number = int(input('isikan bilangan:'))\n",
    "faktor = 0 \n",
    "for i in range(1, number+1):\n",
    "    sisa = number % i \n",
    "    if number % i == 0:\n",
    "        faktor = faktor + 1\n",
    "\n",
    "if faktor == 2:\n",
    "    print(f\"{number} adalah bilangan prima\")\n",
    "else:\n",
    "    print(f\"{number} adalah bilangan bukan prima\")"
   ]
  },
  {
   "cell_type": "code",
   "execution_count": 27,
   "id": "011945fe",
   "metadata": {},
   "outputs": [
    {
     "name": "stdout",
     "output_type": "stream",
     "text": [
      "22\n",
      "u\n",
      "0 u\n",
      "1 n\n",
      "2 i\n",
      "3 v\n",
      "4 e\n",
      "5 r\n",
      "6 s\n",
      "7 i\n",
      "8 t\n",
      "9 a\n",
      "10 s\n",
      "11  \n",
      "12 n\n",
      "13 u\n",
      "14 s\n",
      "15 a\n",
      "16  \n",
      "17 p\n",
      "18 u\n",
      "19 t\n",
      "20 r\n",
      "21 a\n"
     ]
    }
   ],
   "source": [
    "# panjang = 22\n",
    "\n",
    "kampus = \"universitas nusa putra\"\n",
    "print(len(kampus))\n",
    "print(kampus[0])\n",
    "for i, huruf in enumerate(kampus):\n",
    "    print(i,huruf)"
   ]
  },
  {
   "cell_type": "code",
   "execution_count": 46,
   "id": "c0027c6b",
   "metadata": {},
   "outputs": [
    {
     "name": "stdout",
     "output_type": "stream",
     "text": [
      "jumlah huruf a:3\n",
      "jumlah huruf i:2\n",
      "jumlah huruf u:2\n",
      "jumlah huruf e:1\n",
      "jumlah huruf o:0\n",
      "jumlah huruf vokal:8\n"
     ]
    }
   ],
   "source": [
    "# menghitung jumlah huruf vokal a i u e o\n",
    "\n",
    "kampus = \"Universitas Nusa Putra\" #panjang 22\n",
    "panjang = len(kampus)\n",
    "\n",
    "vokal_a = 0\n",
    "vokal_i = 0\n",
    "vokal_u = 0\n",
    "vokal_e = 0\n",
    "vokal_o = 0\n",
    "\n",
    "for i in range(0,panjang):\n",
    "    if kampus[i]=='a':\n",
    "        vokal_a +=1\n",
    "    elif kampus[i]=='i':\n",
    "        vokal_i +=1\n",
    "    elif kampus[i]=='u':\n",
    "        vokal_u +=1\n",
    "    elif kampus[i]=='e':\n",
    "        vokal_e +=1\n",
    "    elif kampus[i]=='o':\n",
    "        vokal_o +=1\n",
    "    \n",
    "print(f\"jumlah huruf a:{vokal_a}\")\n",
    "print(f\"jumlah huruf i:{vokal_i}\")\n",
    "print(f\"jumlah huruf u:{vokal_u}\")\n",
    "print(f\"jumlah huruf e:{vokal_e}\")\n",
    "print(f\"jumlah huruf o:{vokal_o}\")\n",
    "print(f\"jumlah huruf vokal:{vokal_a + vokal_i + vokal_u + vokal_e + vokal_o}\")"
   ]
  },
  {
   "cell_type": "code",
   "execution_count": 12,
   "id": "0e889e54",
   "metadata": {},
   "outputs": [
    {
     "name": "stdout",
     "output_type": "stream",
     "text": [
      "isikan kalimat:kasur rusak\n",
      "palindrome\n"
     ]
    }
   ],
   "source": [
    "kalimat = input(\"isikan kalimat:\")\n",
    "panjang_kalimat = len(kalimat)\n",
    "\n",
    "# mengecek kalimat palindrome atau bukan\n",
    "# palindrome => kalimat yang dibaca dari kiri > kanan dan kanan > kekiri itu sama\n",
    "# katak => palindrome\n",
    "# kasur rusak => palindrome\n",
    "isPalindrome = True \n",
    "\n",
    "for i in range(0,panjang_kalimat):\n",
    "    urut = kalimat[i]\n",
    "    kebalikan = kalimat[panjang_kalimat - i-1]\n",
    "    if urut != kebalikan:\n",
    "        isPalindrome = False\n",
    "        break\n",
    "if isPalindrome:\n",
    "    print(\"palindrome\")\n",
    "else:\n",
    "    print(\"bukan palindrome\")"
   ]
  },
  {
   "cell_type": "code",
   "execution_count": 2,
   "id": "bc2c9f92",
   "metadata": {},
   "outputs": [
    {
     "name": "stdout",
     "output_type": "stream",
     "text": [
      "isikan kalimat:AKA\n",
      "AKA adalah palindrome\n",
      "apakah mau mengulang program?: Y/TY\n"
     ]
    }
   ],
   "source": [
    "ulang = \"y\"\n",
    "while(ulang==\"y\" or ulang==\"y\"):\n",
    "    kalimat = input(\"isikan kalimat:\")\n",
    "    panjang_kalimat = len(kalimat)\n",
    "    \n",
    "    isPalindrome = True\n",
    "    for i in range(0,panjang_kalimat):\n",
    "        urut = kalimat[i]\n",
    "        kebalikan = kalimat[panjang_kalimat - i-1]\n",
    "        if urut != kebalikan:\n",
    "            isPalindrome = False\n",
    "            break\n",
    "    \n",
    "    if isPalindrome==True:\n",
    "        print(f\"{kalimat} adalah palindrome\")\n",
    "    else:\n",
    "        print(f\"{kalimat} adalah bukan palindrome\")\n",
    "    \n",
    "    ulang = input('apakah mau mengulang program?: Y/T')"
   ]
  },
  {
   "cell_type": "code",
   "execution_count": 3,
   "id": "7b6b547b",
   "metadata": {},
   "outputs": [
    {
     "name": "stdout",
     "output_type": "stream",
     "text": [
      "i: 1 dan j :1\n",
      "i: 1 dan j :2\n",
      "i: 1 dan j :3\n",
      "i: 1 dan j :4\n",
      "i: 2 dan j :1\n",
      "i: 2 dan j :2\n",
      "i: 2 dan j :3\n",
      "i: 2 dan j :4\n",
      "i: 3 dan j :1\n",
      "i: 3 dan j :2\n",
      "i: 3 dan j :3\n",
      "i: 3 dan j :4\n",
      "i: 4 dan j :1\n",
      "i: 4 dan j :2\n",
      "i: 4 dan j :3\n",
      "i: 4 dan j :4\n"
     ]
    }
   ],
   "source": [
    "# nested for\n",
    "\n",
    "for i in range(1,5):\n",
    "    for j in range(1,5):\n",
    "        print(f\"i: {i} dan j :{j}\")"
   ]
  }
 ],
 "metadata": {
  "kernelspec": {
   "display_name": "Python 3 (ipykernel)",
   "language": "python",
   "name": "python3"
  },
  "language_info": {
   "codemirror_mode": {
    "name": "ipython",
    "version": 3
   },
   "file_extension": ".py",
   "mimetype": "text/x-python",
   "name": "python",
   "nbconvert_exporter": "python",
   "pygments_lexer": "ipython3",
   "version": "3.9.12"
  }
 },
 "nbformat": 4,
 "nbformat_minor": 5
}
